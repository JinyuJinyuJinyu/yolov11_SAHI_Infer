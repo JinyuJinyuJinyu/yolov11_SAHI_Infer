{
 "cells": [
  {
   "cell_type": "code",
   "execution_count": 2,
   "metadata": {},
   "outputs": [],
   "source": [
    "from onnx import version_converter\n",
    "import onnx\n",
    "\n",
    "import torch\n",
    "from networks import yolo_v11_n\n",
    "import onnxruntime as ort"
   ]
  },
  {
   "cell_type": "code",
   "execution_count": 3,
   "metadata": {},
   "outputs": [],
   "source": [
    "# torch.onnx.export(\n",
    "#     NMSModel(self.model, self.args) if self.args.nms else self.model,\n",
    "#     self.im,\n",
    "#     f,\n",
    "#     verbose=False,\n",
    "#     opset_version=opset_version,\n",
    "#     do_constant_folding=True,  # WARNING: DNN inference with torch>=1.12 may require do_constant_folding=False\n",
    "#     input_names=[\"images\"],\n",
    "#     output_names=output_names,\n",
    "#     dynamic_axes=dynamic or None,\n",
    "# )"
   ]
  },
  {
   "cell_type": "code",
   "execution_count": 4,
   "metadata": {},
   "outputs": [
    {
     "name": "stderr",
     "output_type": "stream",
     "text": [
      "/mnt/DATA/gits/yolov11_scratch/networks.py:10: TracerWarning: Iterating over a tensor might cause the trace to be incorrect. Passing a tensor of different shape won't change the number of iterations executed (and might lead to errors or silently give incorrect results).\n",
      "  for i, stride in enumerate(strides):\n",
      "/home/jy/miniconda3/envs/tc11/lib/python3.11/site-packages/torch/functional.py:539: UserWarning: torch.meshgrid: in an upcoming release, it will be required to pass the indexing argument. (Triggered internally at /pytorch/aten/src/ATen/native/TensorShape.cpp:3637.)\n",
      "  return _VF.meshgrid(tensors, **kwargs)  # type: ignore[attr-defined]\n"
     ]
    },
    {
     "data": {
      "text/plain": [
       "<onnxruntime.capi.onnxruntime_inference_collection.InferenceSession at 0x73b095fa7d90>"
      ]
     },
     "execution_count": 4,
     "metadata": {},
     "output_type": "execute_result"
    }
   ],
   "source": [
    "\n",
    "input_tensor = torch.rand((1, 3, 640, 640), dtype=torch.float32)\n",
    "\n",
    "model = yolo_v11_n(3)\n",
    "model.load_state_dict(torch.load('/mnt/DATA/gits/yolov11_scratch/weights/best_model.pt',weights_only=False))\n",
    "torch.onnx.export(\n",
    "    model,                  # model to export\n",
    "    (input_tensor,),        # inputs of the model,\n",
    "    \"/mnt/DATA/gits/yolov11_scratch/weights/my_model.onnx\",        # filename of the ONNX model\n",
    "    input_names=[\"input\"],  # Rename inputs for the ONNX model\n",
    "    do_constant_folding=True,\n",
    "    opset_version= 12             # True or False to select the exporter to use\n",
    ")\n",
    "\n",
    "ort.InferenceSession(\"/mnt/DATA/gits/yolov11_scratch/weights/my_model.onnx\",  providers=['CUDAExecutionProvider'])"
   ]
  }
 ],
 "metadata": {
  "kernelspec": {
   "display_name": "tc11",
   "language": "python",
   "name": "python3"
  },
  "language_info": {
   "codemirror_mode": {
    "name": "ipython",
    "version": 3
   },
   "file_extension": ".py",
   "mimetype": "text/x-python",
   "name": "python",
   "nbconvert_exporter": "python",
   "pygments_lexer": "ipython3",
   "version": "3.11.0"
  }
 },
 "nbformat": 4,
 "nbformat_minor": 2
}
